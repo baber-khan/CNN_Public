{
  "nbformat": 4,
  "nbformat_minor": 0,
  "metadata": {
    "colab": {
      "name": "CNN(Normal Data).ipynb",
      "provenance": [],
      "collapsed_sections": []
    },
    "kernelspec": {
      "name": "python3",
      "display_name": "Python 3"
    },
    "accelerator": "GPU"
  },
  "cells": [
    {
      "cell_type": "code",
      "metadata": {
        "id": "lz_tma7gAlsn",
        "colab_type": "code",
        "outputId": "4c2592b2-5027-4904-a157-56c5099349c3",
        "colab": {
          "base_uri": "https://localhost:8080/",
          "height": 54
        }
      },
      "source": [
        "from google.colab import drive\n",
        "drive.mount('/content/Drive')\n",
        "!ls"
      ],
      "execution_count": 0,
      "outputs": [
        {
          "output_type": "stream",
          "text": [
            "Drive already mounted at /content/Drive; to attempt to forcibly remount, call drive.mount(\"/content/Drive\", force_remount=True).\n",
            "Test  Training\tValidation\n"
          ],
          "name": "stdout"
        }
      ]
    },
    {
      "cell_type": "code",
      "metadata": {
        "id": "RICAeU1MAsVT",
        "colab_type": "code",
        "outputId": "2ddfa33b-02d8-4876-dff5-9fc464c8b00b",
        "colab": {
          "base_uri": "https://localhost:8080/",
          "height": 35
        }
      },
      "source": [
        "import os\n",
        "os.getcwd()\n",
        "\n",
        "os.chdir('/content/Drive/My Drive/Colab Notebooks/data')\n",
        "\n",
        "!ls  "
      ],
      "execution_count": 0,
      "outputs": [
        {
          "output_type": "stream",
          "text": [
            "Test  Training\tValidation\n"
          ],
          "name": "stdout"
        }
      ]
    },
    {
      "cell_type": "code",
      "metadata": {
        "id": "FfJp_AX0AvXj",
        "colab_type": "code",
        "colab": {}
      },
      "source": [
        "from keras.applications import VGG16\n",
        "conv_base = VGG16(weights='imagenet',\n",
        "include_top=False,\n",
        "input_shape=(150, 150, 3))"
      ],
      "execution_count": 0,
      "outputs": []
    },
    {
      "cell_type": "code",
      "metadata": {
        "id": "wNFzRnG6A17D",
        "colab_type": "code",
        "outputId": "e105c5e9-69b4-47d3-99cc-68d77adae846",
        "colab": {
          "base_uri": "https://localhost:8080/",
          "height": 862
        }
      },
      "source": [
        " conv_base.summary()"
      ],
      "execution_count": 0,
      "outputs": [
        {
          "output_type": "stream",
          "text": [
            "Model: \"vgg16\"\n",
            "_________________________________________________________________\n",
            "Layer (type)                 Output Shape              Param #   \n",
            "=================================================================\n",
            "input_3 (InputLayer)         (None, 150, 150, 3)       0         \n",
            "_________________________________________________________________\n",
            "block1_conv1 (Conv2D)        (None, 150, 150, 64)      1792      \n",
            "_________________________________________________________________\n",
            "block1_conv2 (Conv2D)        (None, 150, 150, 64)      36928     \n",
            "_________________________________________________________________\n",
            "block1_pool (MaxPooling2D)   (None, 75, 75, 64)        0         \n",
            "_________________________________________________________________\n",
            "block2_conv1 (Conv2D)        (None, 75, 75, 128)       73856     \n",
            "_________________________________________________________________\n",
            "block2_conv2 (Conv2D)        (None, 75, 75, 128)       147584    \n",
            "_________________________________________________________________\n",
            "block2_pool (MaxPooling2D)   (None, 37, 37, 128)       0         \n",
            "_________________________________________________________________\n",
            "block3_conv1 (Conv2D)        (None, 37, 37, 256)       295168    \n",
            "_________________________________________________________________\n",
            "block3_conv2 (Conv2D)        (None, 37, 37, 256)       590080    \n",
            "_________________________________________________________________\n",
            "block3_conv3 (Conv2D)        (None, 37, 37, 256)       590080    \n",
            "_________________________________________________________________\n",
            "block3_pool (MaxPooling2D)   (None, 18, 18, 256)       0         \n",
            "_________________________________________________________________\n",
            "block4_conv1 (Conv2D)        (None, 18, 18, 512)       1180160   \n",
            "_________________________________________________________________\n",
            "block4_conv2 (Conv2D)        (None, 18, 18, 512)       2359808   \n",
            "_________________________________________________________________\n",
            "block4_conv3 (Conv2D)        (None, 18, 18, 512)       2359808   \n",
            "_________________________________________________________________\n",
            "block4_pool (MaxPooling2D)   (None, 9, 9, 512)         0         \n",
            "_________________________________________________________________\n",
            "block5_conv1 (Conv2D)        (None, 9, 9, 512)         2359808   \n",
            "_________________________________________________________________\n",
            "block5_conv2 (Conv2D)        (None, 9, 9, 512)         2359808   \n",
            "_________________________________________________________________\n",
            "block5_conv3 (Conv2D)        (None, 9, 9, 512)         2359808   \n",
            "_________________________________________________________________\n",
            "block5_pool (MaxPooling2D)   (None, 4, 4, 512)         0         \n",
            "=================================================================\n",
            "Total params: 14,714,688\n",
            "Trainable params: 14,714,688\n",
            "Non-trainable params: 0\n",
            "_________________________________________________________________\n"
          ],
          "name": "stdout"
        }
      ]
    },
    {
      "cell_type": "code",
      "metadata": {
        "id": "n-miyhY8A558",
        "colab_type": "code",
        "outputId": "bab086f7-0cf9-4aff-8419-56c7f153d7a7",
        "colab": {
          "base_uri": "https://localhost:8080/",
          "height": 72
        }
      },
      "source": [
        "import os\n",
        "import numpy as np\n",
        "from keras.preprocessing.image import ImageDataGenerator\n",
        "\n",
        "base_dir ='/content/Drive/My Drive/Colab Notebooks/data'\n",
        "train_dir = os.path.join(base_dir, 'Training')\n",
        "validation_dir = os.path.join(base_dir, 'Validation')\n",
        "test_dir = os.path.join(base_dir, 'Test')\n",
        "\n",
        "datagen = ImageDataGenerator(rescale=1./255)\n",
        "batch_size = 10\n",
        "def extract_features(directory, sample_count):\n",
        "    features = np.zeros(shape=(sample_count, 4, 4, 512))\n",
        "    labels = np.zeros(shape=(sample_count))\n",
        "    generator = datagen.flow_from_directory(\n",
        "        directory,\n",
        "        target_size=(150, 150),\n",
        "        batch_size=batch_size,\n",
        "        class_mode='binary')\n",
        "    i=0\n",
        "    for inputs_batch, labels_batch in generator:\n",
        "        features_batch = conv_base.predict(inputs_batch)\n",
        "        features[i * batch_size : (i + 1) * batch_size] = features_batch\n",
        "        labels[i * batch_size : (i + 1) * batch_size] = labels_batch\n",
        "        i += 1\n",
        "        if i * batch_size >= sample_count:\n",
        "            break\n",
        "    return features, labels\n",
        "train_features, train_labels = extract_features(train_dir, 50)\n",
        "validation_features, validation_labels = extract_features(validation_dir,50)\n",
        "test_features, test_labels = extract_features(test_dir, 16)\n",
        "\n",
        "\n"
      ],
      "execution_count": 0,
      "outputs": [
        {
          "output_type": "stream",
          "text": [
            "Found 50 images belonging to 2 classes.\n",
            "Found 50 images belonging to 2 classes.\n",
            "Found 16 images belonging to 2 classes.\n"
          ],
          "name": "stdout"
        }
      ]
    },
    {
      "cell_type": "code",
      "metadata": {
        "id": "uxVqY_cGGgFy",
        "colab_type": "code",
        "colab": {}
      },
      "source": [
        "train_features = np.reshape(train_features, (50, 4*4* 512))\n",
        "validation_features = np.reshape(validation_features, (50, 4*4* 512))\n",
        "test_features = np.reshape(test_features, (16, 4*4* 512))"
      ],
      "execution_count": 0,
      "outputs": []
    },
    {
      "cell_type": "code",
      "metadata": {
        "id": "Fp2-qEGYBBag",
        "colab_type": "code",
        "outputId": "5d9d1c2a-2f2d-47ff-f490-612332b75c3a",
        "colab": {
          "base_uri": "https://localhost:8080/",
          "height": 1000
        }
      },
      "source": [
        "from keras import models\n",
        "from keras import layers\n",
        "from keras import optimizers\n",
        "import keras\n",
        "\n",
        "model = models.Sequential()\n",
        "model.add(layers.Dense(256, activation='relu', input_dim=4* 4 * 512))\n",
        "model.add(layers.Dropout(0.4))\n",
        "model.add(layers.Dense(1, activation='sigmoid'))\n",
        "\n",
        "\n",
        "model.compile(optimizer=optimizers.RMSprop(lr=2e-5),\n",
        "loss='binary_crossentropy',\n",
        "metrics=['acc'])\n",
        "\n",
        "history = model.fit(train_features, train_labels,\n",
        "epochs=20,\n",
        "batch_size=20,\n",
        "validation_data=(validation_features, validation_labels)\n",
        ")"
      ],
      "execution_count": 0,
      "outputs": [
        {
          "output_type": "stream",
          "text": [
            "WARNING:tensorflow:From /usr/local/lib/python3.6/dist-packages/keras/backend/tensorflow_backend.py:148: The name tf.placeholder_with_default is deprecated. Please use tf.compat.v1.placeholder_with_default instead.\n",
            "\n",
            "WARNING:tensorflow:From /usr/local/lib/python3.6/dist-packages/keras/backend/tensorflow_backend.py:3733: calling dropout (from tensorflow.python.ops.nn_ops) with keep_prob is deprecated and will be removed in a future version.\n",
            "Instructions for updating:\n",
            "Please use `rate` instead of `keep_prob`. Rate should be set to `rate = 1 - keep_prob`.\n",
            "WARNING:tensorflow:From /usr/local/lib/python3.6/dist-packages/keras/optimizers.py:793: The name tf.train.Optimizer is deprecated. Please use tf.compat.v1.train.Optimizer instead.\n",
            "\n",
            "WARNING:tensorflow:From /usr/local/lib/python3.6/dist-packages/keras/backend/tensorflow_backend.py:3657: The name tf.log is deprecated. Please use tf.math.log instead.\n",
            "\n",
            "WARNING:tensorflow:From /usr/local/lib/python3.6/dist-packages/tensorflow_core/python/ops/nn_impl.py:183: where (from tensorflow.python.ops.array_ops) is deprecated and will be removed in a future version.\n",
            "Instructions for updating:\n",
            "Use tf.where in 2.0, which has the same broadcast rule as np.where\n",
            "WARNING:tensorflow:From /usr/local/lib/python3.6/dist-packages/keras/backend/tensorflow_backend.py:1033: The name tf.assign_add is deprecated. Please use tf.compat.v1.assign_add instead.\n",
            "\n",
            "WARNING:tensorflow:From /usr/local/lib/python3.6/dist-packages/keras/backend/tensorflow_backend.py:1020: The name tf.assign is deprecated. Please use tf.compat.v1.assign instead.\n",
            "\n",
            "Train on 50 samples, validate on 50 samples\n",
            "Epoch 1/20\n",
            "50/50 [==============================] - 0s 8ms/step - loss: 0.7259 - acc: 0.5200 - val_loss: 0.6881 - val_acc: 0.6800\n",
            "Epoch 2/20\n",
            "50/50 [==============================] - 0s 463us/step - loss: 0.7076 - acc: 0.5800 - val_loss: 0.6905 - val_acc: 0.6000\n",
            "Epoch 3/20\n",
            "50/50 [==============================] - 0s 419us/step - loss: 0.6795 - acc: 0.6000 - val_loss: 0.6935 - val_acc: 0.6000\n",
            "Epoch 4/20\n",
            "50/50 [==============================] - 0s 441us/step - loss: 0.7267 - acc: 0.5400 - val_loss: 0.6967 - val_acc: 0.6000\n",
            "Epoch 5/20\n",
            "50/50 [==============================] - 0s 407us/step - loss: 0.6844 - acc: 0.6000 - val_loss: 0.7052 - val_acc: 0.5400\n",
            "Epoch 6/20\n",
            "50/50 [==============================] - 0s 443us/step - loss: 0.6832 - acc: 0.5800 - val_loss: 0.7011 - val_acc: 0.5800\n",
            "Epoch 7/20\n",
            "50/50 [==============================] - 0s 439us/step - loss: 0.6405 - acc: 0.6200 - val_loss: 0.7026 - val_acc: 0.5800\n",
            "Epoch 8/20\n",
            "50/50 [==============================] - 0s 410us/step - loss: 0.7497 - acc: 0.4000 - val_loss: 0.7078 - val_acc: 0.5800\n",
            "Epoch 9/20\n",
            "50/50 [==============================] - 0s 434us/step - loss: 0.7634 - acc: 0.4600 - val_loss: 0.7096 - val_acc: 0.5800\n",
            "Epoch 10/20\n",
            "50/50 [==============================] - 0s 419us/step - loss: 0.7298 - acc: 0.5200 - val_loss: 0.7142 - val_acc: 0.5800\n",
            "Epoch 11/20\n",
            "50/50 [==============================] - 0s 432us/step - loss: 0.6397 - acc: 0.6200 - val_loss: 0.7160 - val_acc: 0.5600\n",
            "Epoch 12/20\n",
            "50/50 [==============================] - 0s 442us/step - loss: 0.6804 - acc: 0.5800 - val_loss: 0.7193 - val_acc: 0.5800\n",
            "Epoch 13/20\n",
            "50/50 [==============================] - 0s 413us/step - loss: 0.5708 - acc: 0.7200 - val_loss: 0.7225 - val_acc: 0.5600\n",
            "Epoch 14/20\n",
            "50/50 [==============================] - 0s 419us/step - loss: 0.6791 - acc: 0.5800 - val_loss: 0.7235 - val_acc: 0.5800\n",
            "Epoch 15/20\n",
            "50/50 [==============================] - 0s 398us/step - loss: 0.6241 - acc: 0.6400 - val_loss: 0.7249 - val_acc: 0.5600\n",
            "Epoch 16/20\n",
            "50/50 [==============================] - 0s 432us/step - loss: 0.6359 - acc: 0.5800 - val_loss: 0.7221 - val_acc: 0.5800\n",
            "Epoch 17/20\n",
            "50/50 [==============================] - 0s 525us/step - loss: 0.5907 - acc: 0.7400 - val_loss: 0.7264 - val_acc: 0.5600\n",
            "Epoch 18/20\n",
            "50/50 [==============================] - 0s 528us/step - loss: 0.6124 - acc: 0.6200 - val_loss: 0.7227 - val_acc: 0.5400\n",
            "Epoch 19/20\n",
            "50/50 [==============================] - 0s 504us/step - loss: 0.5516 - acc: 0.7600 - val_loss: 0.7243 - val_acc: 0.5400\n",
            "Epoch 20/20\n",
            "50/50 [==============================] - 0s 508us/step - loss: 0.5937 - acc: 0.6600 - val_loss: 0.7279 - val_acc: 0.5400\n"
          ],
          "name": "stdout"
        }
      ]
    },
    {
      "cell_type": "code",
      "metadata": {
        "id": "ZdYGJv7LBJu2",
        "colab_type": "code",
        "outputId": "0b7297b4-2177-472a-b222-4f6a915734d8",
        "colab": {
          "base_uri": "https://localhost:8080/",
          "height": 545
        }
      },
      "source": [
        "import matplotlib.pyplot as plt\n",
        "acc = history.history['acc']\n",
        "val_acc = history.history['val_acc']\n",
        "loss = history.history['loss']\n",
        "val_loss = history.history['val_loss']\n",
        "epochs = range(1, len(acc) + 1)\n",
        "plt.plot(epochs, acc, 'bo', label='Training acc')\n",
        "plt.plot(epochs, val_acc, 'b', label='Validation acc')\n",
        "plt.title('Training and validation accuracy')\n",
        "plt.legend()\n",
        "plt.figure()\n",
        "plt.plot(epochs, loss, 'bo', label='Training loss')\n",
        "plt.plot(epochs, val_loss, 'b', label='Validation loss')\n",
        "plt.title('Training and validation loss')\n",
        "plt.legend()\n",
        "plt.show()"
      ],
      "execution_count": 0,
      "outputs": [
        {
          "output_type": "display_data",
          "data": {
            "image/png": "[encoded data removed]",
            "text/plain": [
              "<Figure size 432x288 with 1 Axes>"
            ]
          },
          "metadata": {
            "tags": []
          }
        },
        {
          "output_type": "display_data",
          "data": {
            "image/png": "[encoded data removed]",
            "text/plain": [
              "<Figure size 432x288 with 1 Axes>"
            ]
          },
          "metadata": {
            "tags": []
          }
        }
      ]
    },
    {
      "cell_type": "code",
      "metadata": {
        "id": "DjWWMw04sh8q",
        "colab_type": "code",
        "colab": {}
      },
      "source": [
        "from keras import models\n",
        "from keras import layers\n",
        "model = models.Sequential()\n",
        "model.add(conv_base)\n",
        "model.add(layers.Flatten())\n",
        "model.add(layers.Dense(256, activation='relu'))\n",
        "model.add(layers.Dense(1, activation='sigmoid'))"
      ],
      "execution_count": 0,
      "outputs": []
    },
    {
      "cell_type": "code",
      "metadata": {
        "id": "A5-3mqokcL3E",
        "colab_type": "code",
        "outputId": "3440e902-e1d3-497b-b708-6f5c0d09c76f",
        "colab": {
          "base_uri": "https://localhost:8080/",
          "height": 311
        }
      },
      "source": [
        "model.summary()"
      ],
      "execution_count": 0,
      "outputs": [
        {
          "output_type": "stream",
          "text": [
            "Model: \"sequential_2\"\n",
            "_________________________________________________________________\n",
            "Layer (type)                 Output Shape              Param #   \n",
            "=================================================================\n",
            "vgg16 (Model)                (None, 4, 4, 512)         14714688  \n",
            "_________________________________________________________________\n",
            "flatten_1 (Flatten)          (None, 8192)              0         \n",
            "_________________________________________________________________\n",
            "dense_3 (Dense)              (None, 256)               2097408   \n",
            "_________________________________________________________________\n",
            "dense_4 (Dense)              (None, 1)                 257       \n",
            "=================================================================\n",
            "Total params: 16,812,353\n",
            "Trainable params: 16,812,353\n",
            "Non-trainable params: 0\n",
            "_________________________________________________________________\n"
          ],
          "name": "stdout"
        }
      ]
    },
    {
      "cell_type": "code",
      "metadata": {
        "id": "r53fwHtdcON9",
        "colab_type": "code",
        "outputId": "fc8e9ec8-aa28-40a2-fb5c-a39f7ff0da05",
        "colab": {
          "base_uri": "https://localhost:8080/",
          "height": 1000
        }
      },
      "source": [
        "from keras.preprocessing.image import ImageDataGenerator\n",
        "from keras import optimizers\n",
        "train_datagen = ImageDataGenerator(\n",
        "rescale=1./255,\n",
        "rotation_range=40,\n",
        "width_shift_range=0.2,\n",
        "height_shift_range=0.2,\n",
        "shear_range=0.2,\n",
        "zoom_range=0.2,\n",
        "horizontal_flip=True,\n",
        "fill_mode='nearest')\n",
        "test_datagen = ImageDataGenerator(rescale=1./255)\n",
        "train_generator = train_datagen.flow_from_directory(\n",
        "train_dir,\n",
        "target_size=(150, 150),\n",
        "batch_size=20,\n",
        "class_mode='binary')\n",
        "validation_generator = test_datagen.flow_from_directory(\n",
        "validation_dir,\n",
        "target_size=(150, 150),\n",
        "batch_size=20,\n",
        "class_mode='binary')\n",
        "model.compile(loss='binary_crossentropy',\n",
        "optimizer=optimizers.RMSprop(lr=2e-5),\n",
        "metrics=['acc'])\n",
        "history = model.fit_generator(\n",
        "train_generator,\n",
        "steps_per_epoch=100,\n",
        "epochs=30,\n",
        "validation_data=validation_generator,\n",
        "validation_steps=50)"
      ],
      "execution_count": 0,
      "outputs": [
        {
          "output_type": "stream",
          "text": [
            "Found 50 images belonging to 2 classes.\n",
            "Found 50 images belonging to 2 classes.\n",
            "Epoch 1/30\n",
            "100/100 [==============================] - 31s 311ms/step - loss: 0.6300 - acc: 0.6290 - val_loss: 0.9069 - val_acc: 0.5810\n",
            "Epoch 2/30\n",
            "100/100 [==============================] - 25s 249ms/step - loss: 0.4265 - acc: 0.7960 - val_loss: 1.5081 - val_acc: 0.4434\n",
            "Epoch 3/30\n",
            "100/100 [==============================] - 25s 247ms/step - loss: 0.2825 - acc: 0.8825 - val_loss: 1.9734 - val_acc: 0.3952\n",
            "Epoch 4/30\n",
            "100/100 [==============================] - 25s 249ms/step - loss: 0.1494 - acc: 0.9550 - val_loss: 3.5109 - val_acc: 0.4381\n",
            "Epoch 5/30\n",
            "100/100 [==============================] - 25s 247ms/step - loss: 0.1030 - acc: 0.9670 - val_loss: 3.4858 - val_acc: 0.4663\n",
            "Epoch 6/30\n",
            "100/100 [==============================] - 25s 249ms/step - loss: 0.0995 - acc: 0.9680 - val_loss: 3.9150 - val_acc: 0.4024\n",
            "Epoch 7/30\n",
            "100/100 [==============================] - 25s 248ms/step - loss: 0.0743 - acc: 0.9735 - val_loss: 4.1390 - val_acc: 0.4417\n",
            "Epoch 8/30\n",
            "100/100 [==============================] - 25s 250ms/step - loss: 0.0586 - acc: 0.9820 - val_loss: 4.8519 - val_acc: 0.4193\n",
            "Epoch 9/30\n",
            "100/100 [==============================] - 25s 251ms/step - loss: 0.0413 - acc: 0.9870 - val_loss: 4.5594 - val_acc: 0.4386\n",
            "Epoch 10/30\n",
            "100/100 [==============================] - 25s 247ms/step - loss: 0.0377 - acc: 0.9865 - val_loss: 5.3001 - val_acc: 0.4214\n",
            "Epoch 11/30\n",
            "100/100 [==============================] - 25s 250ms/step - loss: 0.0223 - acc: 0.9920 - val_loss: 4.9222 - val_acc: 0.4193\n",
            "Epoch 12/30\n",
            "100/100 [==============================] - 25s 250ms/step - loss: 0.0456 - acc: 0.9865 - val_loss: 4.7867 - val_acc: 0.4193\n",
            "Epoch 13/30\n",
            "100/100 [==============================] - 25s 245ms/step - loss: 0.0352 - acc: 0.9915 - val_loss: 4.7447 - val_acc: 0.4607\n",
            "Epoch 14/30\n",
            "100/100 [==============================] - 25s 250ms/step - loss: 0.0377 - acc: 0.9870 - val_loss: 4.7557 - val_acc: 0.3988\n",
            "Epoch 15/30\n",
            "100/100 [==============================] - 25s 249ms/step - loss: 0.0281 - acc: 0.9900 - val_loss: 3.6988 - val_acc: 0.4386\n",
            "Epoch 16/30\n",
            "100/100 [==============================] - 25s 248ms/step - loss: 0.0162 - acc: 0.9950 - val_loss: 5.0492 - val_acc: 0.4429\n",
            "Epoch 17/30\n",
            "100/100 [==============================] - 25s 252ms/step - loss: 0.0242 - acc: 0.9945 - val_loss: 6.3160 - val_acc: 0.4012\n",
            "Epoch 18/30\n",
            "100/100 [==============================] - 25s 250ms/step - loss: 0.0515 - acc: 0.9925 - val_loss: 5.3667 - val_acc: 0.4169\n",
            "Epoch 19/30\n",
            "100/100 [==============================] - 25s 249ms/step - loss: 0.0261 - acc: 0.9950 - val_loss: 5.5398 - val_acc: 0.4393\n",
            "Epoch 20/30\n",
            "100/100 [==============================] - 25s 250ms/step - loss: 0.0148 - acc: 0.9980 - val_loss: 5.4234 - val_acc: 0.4410\n",
            "Epoch 21/30\n",
            "100/100 [==============================] - 25s 248ms/step - loss: 0.0175 - acc: 0.9965 - val_loss: 6.3644 - val_acc: 0.4398\n",
            "Epoch 22/30\n",
            "100/100 [==============================] - 25s 248ms/step - loss: 0.0037 - acc: 0.9995 - val_loss: 5.5423 - val_acc: 0.4548\n",
            "Epoch 23/30\n",
            "100/100 [==============================] - 25s 247ms/step - loss: 0.0199 - acc: 0.9970 - val_loss: 6.6845 - val_acc: 0.4831\n",
            "Epoch 24/30\n",
            "100/100 [==============================] - 25s 250ms/step - loss: 0.0505 - acc: 0.9915 - val_loss: 5.6601 - val_acc: 0.3976\n",
            "Epoch 25/30\n",
            "100/100 [==============================] - 25s 248ms/step - loss: 0.0041 - acc: 0.9980 - val_loss: 6.0895 - val_acc: 0.4607\n",
            "Epoch 26/30\n",
            "100/100 [==============================] - 25s 248ms/step - loss: 0.0221 - acc: 0.9950 - val_loss: 3.4032 - val_acc: 0.4795\n",
            "Epoch 27/30\n",
            "100/100 [==============================] - 25s 250ms/step - loss: 0.0127 - acc: 0.9975 - val_loss: 6.0087 - val_acc: 0.4205\n",
            "Epoch 28/30\n",
            "100/100 [==============================] - 25s 248ms/step - loss: 0.0086 - acc: 0.9975 - val_loss: 6.2810 - val_acc: 0.4631\n",
            "Epoch 29/30\n",
            "100/100 [==============================] - 25s 249ms/step - loss: 0.0017 - acc: 0.9995 - val_loss: 7.0907 - val_acc: 0.4349\n",
            "Epoch 30/30\n",
            "100/100 [==============================] - 25s 251ms/step - loss: 0.0055 - acc: 0.9985 - val_loss: 6.7622 - val_acc: 0.4614\n"
          ],
          "name": "stdout"
        }
      ]
    },
    {
      "cell_type": "code",
      "metadata": {
        "id": "U7--W__dKxgY",
        "colab_type": "code",
        "outputId": "c255c332-8c62-40a0-813f-1e86bb7cfbbf",
        "colab": {
          "base_uri": "https://localhost:8080/",
          "height": 545
        }
      },
      "source": [
        "import matplotlib.pyplot as plt\n",
        "acc = history.history['acc']\n",
        "val_acc = history.history['val_acc']\n",
        "loss = history.history['loss']\n",
        "val_loss = history.history['val_loss']\n",
        "epochs = range(1, len(acc) + 1)\n",
        "plt.plot(epochs, acc, 'bo', label='Training acc')\n",
        "plt.plot(epochs, val_acc, 'b', label='Validation acc')\n",
        "plt.title('Training and validation accuracy')\n",
        "plt.legend()\n",
        "plt.figure()\n",
        "plt.plot(epochs, loss, 'bo', label='Training loss')\n",
        "plt.plot(epochs, val_loss, 'b', label='Validation loss')\n",
        "plt.title('Training and validation loss')\n",
        "plt.legend()\n",
        "plt.show()"
      ],
      "execution_count": 0,
      "outputs": [
        {
          "output_type": "display_data",
          "data": {
            "image/png": "[encoded data removed]",
            "text/plain": [
              "<Figure size 432x288 with 1 Axes>"
            ]
          },
          "metadata": {
            "tags": []
          }
        },
        {
          "output_type": "display_data",
          "data": {
            "image/png": "[encoded data removed]",
            "text/plain": [
              "<Figure size 432x288 with 1 Axes>"
            ]
          },
          "metadata": {
            "tags": []
          }
        }
      ]
    },
    {
      "cell_type": "code",
      "metadata": {
        "id": "g-KfyWrPOL2W",
        "colab_type": "code",
        "outputId": "e0588b13-1fa8-4dfa-ca6b-4769cdf91e15",
        "colab": {
          "base_uri": "https://localhost:8080/",
          "height": 862
        }
      },
      "source": [
        "conv_base.summary()"
      ],
      "execution_count": 0,
      "outputs": [
        {
          "output_type": "stream",
          "text": [
            "Model: \"vgg16\"\n",
            "_________________________________________________________________\n",
            "Layer (type)                 Output Shape              Param #   \n",
            "=================================================================\n",
            "input_3 (InputLayer)         (None, 150, 150, 3)       0         \n",
            "_________________________________________________________________\n",
            "block1_conv1 (Conv2D)        (None, 150, 150, 64)      1792      \n",
            "_________________________________________________________________\n",
            "block1_conv2 (Conv2D)        (None, 150, 150, 64)      36928     \n",
            "_________________________________________________________________\n",
            "block1_pool (MaxPooling2D)   (None, 75, 75, 64)        0         \n",
            "_________________________________________________________________\n",
            "block2_conv1 (Conv2D)        (None, 75, 75, 128)       73856     \n",
            "_________________________________________________________________\n",
            "block2_conv2 (Conv2D)        (None, 75, 75, 128)       147584    \n",
            "_________________________________________________________________\n",
            "block2_pool (MaxPooling2D)   (None, 37, 37, 128)       0         \n",
            "_________________________________________________________________\n",
            "block3_conv1 (Conv2D)        (None, 37, 37, 256)       295168    \n",
            "_________________________________________________________________\n",
            "block3_conv2 (Conv2D)        (None, 37, 37, 256)       590080    \n",
            "_________________________________________________________________\n",
            "block3_conv3 (Conv2D)        (None, 37, 37, 256)       590080    \n",
            "_________________________________________________________________\n",
            "block3_pool (MaxPooling2D)   (None, 18, 18, 256)       0         \n",
            "_________________________________________________________________\n",
            "block4_conv1 (Conv2D)        (None, 18, 18, 512)       1180160   \n",
            "_________________________________________________________________\n",
            "block4_conv2 (Conv2D)        (None, 18, 18, 512)       2359808   \n",
            "_________________________________________________________________\n",
            "block4_conv3 (Conv2D)        (None, 18, 18, 512)       2359808   \n",
            "_________________________________________________________________\n",
            "block4_pool (MaxPooling2D)   (None, 9, 9, 512)         0         \n",
            "_________________________________________________________________\n",
            "block5_conv1 (Conv2D)        (None, 9, 9, 512)         2359808   \n",
            "_________________________________________________________________\n",
            "block5_conv2 (Conv2D)        (None, 9, 9, 512)         2359808   \n",
            "_________________________________________________________________\n",
            "block5_conv3 (Conv2D)        (None, 9, 9, 512)         2359808   \n",
            "_________________________________________________________________\n",
            "block5_pool (MaxPooling2D)   (None, 4, 4, 512)         0         \n",
            "=================================================================\n",
            "Total params: 14,714,688\n",
            "Trainable params: 14,714,688\n",
            "Non-trainable params: 0\n",
            "_________________________________________________________________\n"
          ],
          "name": "stdout"
        }
      ]
    },
    {
      "cell_type": "code",
      "metadata": {
        "id": "R_NOF39wOXvq",
        "colab_type": "code",
        "colab": {}
      },
      "source": [
        "conv_base.trainable = True\n",
        "set_trainable = False\n",
        "for layer in conv_base.layers:\n",
        "  if layer.name == 'block5_conv1':\n",
        "    set_trainable = True\n",
        "  if set_trainable:\n",
        "    layer.trainable = True\n",
        "  else:\n",
        "    layer.trainable = False"
      ],
      "execution_count": 0,
      "outputs": []
    },
    {
      "cell_type": "code",
      "metadata": {
        "id": "AGtsgng_OmgP",
        "colab_type": "code",
        "outputId": "4781ae73-ba6c-4b41-9c17-49b7f07796a9",
        "colab": {
          "base_uri": "https://localhost:8080/",
          "height": 1000
        }
      },
      "source": [
        "model.compile(loss='binary_crossentropy',\n",
        "    optimizer=optimizers.RMSprop(lr=1e-5),\n",
        "    metrics=['acc'])\n",
        "history = model.fit_generator(\n",
        "    train_generator,\n",
        "    steps_per_epoch=100,\n",
        "    epochs=100,\n",
        "    validation_data=validation_generator,\n",
        "    validation_steps=20)"
      ],
      "execution_count": 0,
      "outputs": [
        {
          "output_type": "stream",
          "text": [
            "Epoch 1/100\n",
            "100/100 [==============================] - 20s 196ms/step - loss: 1.7176e-04 - acc: 1.0000 - val_loss: 6.9737 - val_acc: 0.4471\n",
            "Epoch 2/100\n",
            "100/100 [==============================] - 19s 185ms/step - loss: 2.3756e-05 - acc: 1.0000 - val_loss: 7.2826 - val_acc: 0.4152\n",
            "Epoch 3/100\n",
            "100/100 [==============================] - 19s 187ms/step - loss: 1.3716e-04 - acc: 1.0000 - val_loss: 7.1080 - val_acc: 0.4424\n",
            "Epoch 4/100\n",
            "100/100 [==============================] - 18s 185ms/step - loss: 1.0806e-05 - acc: 1.0000 - val_loss: 7.4109 - val_acc: 0.4647\n",
            "Epoch 5/100\n",
            "100/100 [==============================] - 19s 187ms/step - loss: 2.5872e-07 - acc: 1.0000 - val_loss: 7.5920 - val_acc: 0.4242\n",
            "Epoch 6/100\n",
            "100/100 [==============================] - 19s 186ms/step - loss: 6.2581e-04 - acc: 0.9995 - val_loss: 6.9356 - val_acc: 0.4485\n",
            "Epoch 7/100\n",
            "100/100 [==============================] - 18s 185ms/step - loss: 1.6239e-06 - acc: 1.0000 - val_loss: 7.1239 - val_acc: 0.4206\n",
            "Epoch 8/100\n",
            "100/100 [==============================] - 19s 186ms/step - loss: 3.4785e-05 - acc: 1.0000 - val_loss: 7.3505 - val_acc: 0.4727\n",
            "Epoch 9/100\n",
            "100/100 [==============================] - 19s 187ms/step - loss: 5.6458e-06 - acc: 1.0000 - val_loss: 7.1116 - val_acc: 0.4636\n",
            "Epoch 10/100\n",
            "100/100 [==============================] - 19s 186ms/step - loss: 6.5754e-06 - acc: 1.0000 - val_loss: 7.0662 - val_acc: 0.4412\n",
            "Epoch 11/100\n",
            "100/100 [==============================] - 19s 185ms/step - loss: 2.8222e-07 - acc: 1.0000 - val_loss: 7.0219 - val_acc: 0.4424\n",
            "Epoch 12/100\n",
            "100/100 [==============================] - 19s 188ms/step - loss: 1.3561e-04 - acc: 1.0000 - val_loss: 7.2332 - val_acc: 0.4606\n",
            "Epoch 13/100\n",
            "100/100 [==============================] - 18s 184ms/step - loss: 7.0375e-07 - acc: 1.0000 - val_loss: 7.2780 - val_acc: 0.4324\n",
            "Epoch 14/100\n",
            "100/100 [==============================] - 19s 186ms/step - loss: 5.1620e-07 - acc: 1.0000 - val_loss: 7.0736 - val_acc: 0.4697\n",
            "Epoch 15/100\n",
            "100/100 [==============================] - 19s 189ms/step - loss: 1.5265e-06 - acc: 1.0000 - val_loss: 7.3768 - val_acc: 0.4364\n",
            "Epoch 16/100\n",
            "100/100 [==============================] - 18s 185ms/step - loss: 0.0013 - acc: 0.9995 - val_loss: 7.5915 - val_acc: 0.4647\n",
            "Epoch 17/100\n",
            "100/100 [==============================] - 19s 185ms/step - loss: 1.3223e-07 - acc: 1.0000 - val_loss: 7.6020 - val_acc: 0.4788\n",
            "Epoch 18/100\n",
            "100/100 [==============================] - 19s 188ms/step - loss: 1.3338e-04 - acc: 1.0000 - val_loss: 7.2501 - val_acc: 0.4545\n",
            "Epoch 19/100\n",
            "100/100 [==============================] - 18s 185ms/step - loss: 1.3370e-07 - acc: 1.0000 - val_loss: 7.1722 - val_acc: 0.4676\n",
            "Epoch 20/100\n",
            "100/100 [==============================] - 19s 185ms/step - loss: 1.0329e-06 - acc: 1.0000 - val_loss: 7.5626 - val_acc: 0.4333\n",
            "Epoch 21/100\n",
            "100/100 [==============================] - 19s 186ms/step - loss: 2.8158e-06 - acc: 1.0000 - val_loss: 7.4411 - val_acc: 0.4576\n",
            "Epoch 22/100\n",
            "100/100 [==============================] - 18s 184ms/step - loss: 1.1259e-07 - acc: 1.0000 - val_loss: 7.3759 - val_acc: 0.4676\n",
            "Epoch 23/100\n",
            "100/100 [==============================] - 19s 185ms/step - loss: 1.4912e-07 - acc: 1.0000 - val_loss: 7.6765 - val_acc: 0.4727\n",
            "Epoch 24/100\n",
            "100/100 [==============================] - 19s 187ms/step - loss: 3.6161e-07 - acc: 1.0000 - val_loss: 7.3385 - val_acc: 0.4394\n",
            "Epoch 25/100\n",
            "100/100 [==============================] - 19s 185ms/step - loss: 1.1741e-07 - acc: 1.0000 - val_loss: 7.2536 - val_acc: 0.4647\n",
            "Epoch 26/100\n",
            "100/100 [==============================] - 19s 185ms/step - loss: 2.0541e-07 - acc: 1.0000 - val_loss: 7.5638 - val_acc: 0.4515\n",
            "Epoch 27/100\n",
            "100/100 [==============================] - 19s 187ms/step - loss: 8.1686e-05 - acc: 1.0000 - val_loss: 7.1456 - val_acc: 0.4818\n",
            "Epoch 28/100\n",
            "100/100 [==============================] - 19s 186ms/step - loss: 9.4854e-04 - acc: 0.9995 - val_loss: 7.6086 - val_acc: 0.4618\n",
            "Epoch 29/100\n",
            "100/100 [==============================] - 19s 186ms/step - loss: 3.7708e-07 - acc: 1.0000 - val_loss: 7.4553 - val_acc: 0.4818\n",
            "Epoch 30/100\n",
            "100/100 [==============================] - 19s 187ms/step - loss: 1.8826e-07 - acc: 1.0000 - val_loss: 7.2565 - val_acc: 0.4758\n",
            "Epoch 31/100\n",
            "100/100 [==============================] - 18s 184ms/step - loss: 3.1938e-06 - acc: 1.0000 - val_loss: 7.2615 - val_acc: 0.4853\n",
            "Epoch 32/100\n",
            "100/100 [==============================] - 19s 186ms/step - loss: 3.1270e-07 - acc: 1.0000 - val_loss: 7.3831 - val_acc: 0.4788\n",
            "Epoch 33/100\n",
            "100/100 [==============================] - 19s 186ms/step - loss: 1.1004e-07 - acc: 1.0000 - val_loss: 7.4048 - val_acc: 0.4364\n",
            "Epoch 34/100\n",
            "100/100 [==============================] - 19s 185ms/step - loss: 1.0933e-07 - acc: 1.0000 - val_loss: 7.3930 - val_acc: 0.4353\n",
            "Epoch 35/100\n",
            "100/100 [==============================] - 19s 185ms/step - loss: 3.9537e-07 - acc: 1.0000 - val_loss: 7.5956 - val_acc: 0.4667\n",
            "Epoch 36/100\n",
            "100/100 [==============================] - 19s 188ms/step - loss: 8.9686e-04 - acc: 0.9995 - val_loss: 7.1476 - val_acc: 0.4818\n",
            "Epoch 37/100\n",
            "100/100 [==============================] - 19s 186ms/step - loss: 4.2220e-06 - acc: 1.0000 - val_loss: 7.6809 - val_acc: 0.4824\n",
            "Epoch 38/100\n",
            "100/100 [==============================] - 19s 186ms/step - loss: 1.2419e-06 - acc: 1.0000 - val_loss: 7.4914 - val_acc: 0.4485\n",
            "Epoch 39/100\n",
            "100/100 [==============================] - 19s 186ms/step - loss: 1.8127e-07 - acc: 1.0000 - val_loss: 7.3162 - val_acc: 0.4667\n",
            "Epoch 40/100\n",
            "100/100 [==============================] - 19s 185ms/step - loss: 1.6401e-07 - acc: 1.0000 - val_loss: 7.2578 - val_acc: 0.4500\n",
            "Epoch 41/100\n",
            "100/100 [==============================] - 19s 185ms/step - loss: 1.4930e-07 - acc: 1.0000 - val_loss: 7.4823 - val_acc: 0.4333\n",
            "Epoch 42/100\n",
            "100/100 [==============================] - 19s 186ms/step - loss: 1.0878e-07 - acc: 1.0000 - val_loss: 7.5963 - val_acc: 0.4364\n",
            "Epoch 43/100\n",
            "100/100 [==============================] - 18s 185ms/step - loss: 1.1155e-07 - acc: 1.0000 - val_loss: 7.5232 - val_acc: 0.4353\n",
            "Epoch 44/100\n",
            "100/100 [==============================] - 19s 185ms/step - loss: 1.1238e-07 - acc: 1.0000 - val_loss: 7.4741 - val_acc: 0.4242\n",
            "Epoch 45/100\n",
            "100/100 [==============================] - 19s 189ms/step - loss: 1.2220e-07 - acc: 1.0000 - val_loss: 7.5575 - val_acc: 0.4636\n",
            "Epoch 46/100\n",
            "100/100 [==============================] - 18s 185ms/step - loss: 1.0879e-07 - acc: 1.0000 - val_loss: 7.5751 - val_acc: 0.4618\n",
            "Epoch 47/100\n",
            "100/100 [==============================] - 19s 186ms/step - loss: 1.0956e-07 - acc: 1.0000 - val_loss: 7.5494 - val_acc: 0.4394\n",
            "Epoch 48/100\n",
            "100/100 [==============================] - 19s 187ms/step - loss: 1.2540e-07 - acc: 1.0000 - val_loss: 7.7723 - val_acc: 0.4758\n",
            "Epoch 49/100\n",
            "100/100 [==============================] - 19s 186ms/step - loss: 1.2628e-07 - acc: 1.0000 - val_loss: 7.5498 - val_acc: 0.4412\n",
            "Epoch 50/100\n",
            "100/100 [==============================] - 18s 184ms/step - loss: 1.1610e-07 - acc: 1.0000 - val_loss: 7.3109 - val_acc: 0.4727\n",
            "Epoch 51/100\n",
            "100/100 [==============================] - 19s 187ms/step - loss: 1.1055e-07 - acc: 1.0000 - val_loss: 7.6363 - val_acc: 0.4364\n",
            "Epoch 52/100\n",
            "100/100 [==============================] - 18s 184ms/step - loss: 1.6835e-07 - acc: 1.0000 - val_loss: 7.7225 - val_acc: 0.4824\n",
            "Epoch 53/100\n",
            "100/100 [==============================] - 18s 184ms/step - loss: 1.2825e-07 - acc: 1.0000 - val_loss: 7.4179 - val_acc: 0.4182\n",
            "Epoch 54/100\n",
            "100/100 [==============================] - 19s 187ms/step - loss: 1.1336e-07 - acc: 1.0000 - val_loss: 7.4887 - val_acc: 0.4364\n",
            "Epoch 55/100\n",
            "100/100 [==============================] - 19s 185ms/step - loss: 1.6424e-07 - acc: 1.0000 - val_loss: 7.7101 - val_acc: 0.4529\n",
            "Epoch 56/100\n",
            "100/100 [==============================] - 18s 185ms/step - loss: 1.1136e-07 - acc: 1.0000 - val_loss: 7.4288 - val_acc: 0.4364\n",
            "Epoch 57/100\n",
            "100/100 [==============================] - 19s 188ms/step - loss: 1.1310e-07 - acc: 1.0000 - val_loss: 7.5523 - val_acc: 0.4667\n",
            "Epoch 58/100\n",
            "100/100 [==============================] - 19s 186ms/step - loss: 1.0923e-07 - acc: 1.0000 - val_loss: 7.5468 - val_acc: 0.4441\n",
            "Epoch 59/100\n",
            "100/100 [==============================] - 19s 185ms/step - loss: 1.0442e-06 - acc: 1.0000 - val_loss: 7.6096 - val_acc: 0.4303\n",
            "Epoch 60/100\n",
            "100/100 [==============================] - 19s 187ms/step - loss: 2.9359e-07 - acc: 1.0000 - val_loss: 7.4597 - val_acc: 0.4606\n",
            "Epoch 61/100\n",
            "100/100 [==============================] - 19s 185ms/step - loss: 1.1050e-07 - acc: 1.0000 - val_loss: 7.4290 - val_acc: 0.4618\n",
            "Epoch 62/100\n",
            "100/100 [==============================] - 19s 185ms/step - loss: 1.4323e-06 - acc: 1.0000 - val_loss: 7.7503 - val_acc: 0.4636\n",
            "Epoch 63/100\n",
            "100/100 [==============================] - 19s 188ms/step - loss: 3.3214e-07 - acc: 1.0000 - val_loss: 7.4335 - val_acc: 0.4545\n",
            "Epoch 64/100\n",
            "100/100 [==============================] - 19s 185ms/step - loss: 2.6611e-07 - acc: 1.0000 - val_loss: 7.5627 - val_acc: 0.4529\n",
            "Epoch 65/100\n",
            "100/100 [==============================] - 19s 185ms/step - loss: 1.4617e-07 - acc: 1.0000 - val_loss: 7.2351 - val_acc: 0.4636\n",
            "Epoch 66/100\n",
            "100/100 [==============================] - 19s 188ms/step - loss: 1.1366e-07 - acc: 1.0000 - val_loss: 7.2752 - val_acc: 0.4636\n",
            "Epoch 67/100\n",
            "100/100 [==============================] - 18s 185ms/step - loss: 1.1400e-07 - acc: 1.0000 - val_loss: 7.3769 - val_acc: 0.4794\n",
            "Epoch 68/100\n",
            "100/100 [==============================] - 19s 185ms/step - loss: 6.4546e-05 - acc: 1.0000 - val_loss: 7.4865 - val_acc: 0.4485\n",
            "Epoch 69/100\n",
            "100/100 [==============================] - 19s 187ms/step - loss: 7.6042e-07 - acc: 1.0000 - val_loss: 7.4164 - val_acc: 0.4576\n",
            "Epoch 70/100\n",
            "100/100 [==============================] - 19s 186ms/step - loss: 1.3639e-07 - acc: 1.0000 - val_loss: 7.3161 - val_acc: 0.4824\n",
            "Epoch 71/100\n",
            "100/100 [==============================] - 19s 185ms/step - loss: 1.1196e-07 - acc: 1.0000 - val_loss: 7.5686 - val_acc: 0.4485\n",
            "Epoch 72/100\n",
            "100/100 [==============================] - 19s 186ms/step - loss: 1.0887e-07 - acc: 1.0000 - val_loss: 7.2529 - val_acc: 0.4909\n",
            "Epoch 73/100\n",
            "100/100 [==============================] - 19s 186ms/step - loss: 1.0848e-07 - acc: 1.0000 - val_loss: 7.2964 - val_acc: 0.4853\n",
            "Epoch 74/100\n",
            "100/100 [==============================] - 19s 185ms/step - loss: 1.1444e-07 - acc: 1.0000 - val_loss: 7.4102 - val_acc: 0.4424\n",
            "Epoch 75/100\n",
            "100/100 [==============================] - 19s 187ms/step - loss: 1.5701e-07 - acc: 1.0000 - val_loss: 7.4675 - val_acc: 0.4545\n",
            "Epoch 76/100\n",
            "100/100 [==============================] - 18s 185ms/step - loss: 1.1289e-07 - acc: 1.0000 - val_loss: 7.4635 - val_acc: 0.4559\n",
            "Epoch 77/100\n",
            "100/100 [==============================] - 19s 185ms/step - loss: 1.0842e-07 - acc: 1.0000 - val_loss: 7.4608 - val_acc: 0.4606\n",
            "Epoch 78/100\n",
            "100/100 [==============================] - 19s 190ms/step - loss: 1.1210e-07 - acc: 1.0000 - val_loss: 7.3584 - val_acc: 0.4848\n",
            "Epoch 79/100\n",
            "100/100 [==============================] - 18s 185ms/step - loss: 1.0980e-07 - acc: 1.0000 - val_loss: 7.4419 - val_acc: 0.4765\n",
            "Epoch 80/100\n",
            "100/100 [==============================] - 19s 186ms/step - loss: 2.4670e-06 - acc: 1.0000 - val_loss: 7.3680 - val_acc: 0.4424\n",
            "Epoch 81/100\n",
            "100/100 [==============================] - 19s 187ms/step - loss: 1.0855e-07 - acc: 1.0000 - val_loss: 7.3877 - val_acc: 0.4394\n",
            "Epoch 82/100\n",
            "100/100 [==============================] - 18s 185ms/step - loss: 1.4185e-07 - acc: 1.0000 - val_loss: 7.3501 - val_acc: 0.4618\n",
            "Epoch 83/100\n",
            "100/100 [==============================] - 19s 185ms/step - loss: 1.0858e-07 - acc: 1.0000 - val_loss: 7.4482 - val_acc: 0.4576\n",
            "Epoch 84/100\n",
            "100/100 [==============================] - 19s 188ms/step - loss: 1.1378e-07 - acc: 1.0000 - val_loss: 7.3294 - val_acc: 0.4818\n",
            "Epoch 85/100\n",
            "100/100 [==============================] - 19s 186ms/step - loss: 1.0961e-07 - acc: 1.0000 - val_loss: 7.3828 - val_acc: 0.4794\n",
            "Epoch 86/100\n",
            "100/100 [==============================] - 19s 187ms/step - loss: 1.1946e-07 - acc: 1.0000 - val_loss: 7.4551 - val_acc: 0.4424\n",
            "Epoch 87/100\n",
            "100/100 [==============================] - 19s 188ms/step - loss: 1.0862e-07 - acc: 1.0000 - val_loss: 7.4723 - val_acc: 0.4394\n",
            "Epoch 88/100\n",
            "100/100 [==============================] - 18s 184ms/step - loss: 1.2033e-07 - acc: 1.0000 - val_loss: 7.5182 - val_acc: 0.4500\n",
            "Epoch 89/100\n",
            "100/100 [==============================] - 19s 185ms/step - loss: 1.0839e-07 - acc: 1.0000 - val_loss: 7.2900 - val_acc: 0.4697\n",
            "Epoch 90/100\n",
            "100/100 [==============================] - 19s 186ms/step - loss: 1.2643e-07 - acc: 1.0000 - val_loss: 7.6573 - val_acc: 0.4576\n",
            "Epoch 91/100\n",
            "100/100 [==============================] - 18s 184ms/step - loss: 2.8427e-07 - acc: 1.0000 - val_loss: 7.5471 - val_acc: 0.4588\n",
            "Epoch 92/100\n",
            "100/100 [==============================] - 19s 185ms/step - loss: 1.1121e-07 - acc: 1.0000 - val_loss: 7.7307 - val_acc: 0.4515\n",
            "Epoch 93/100\n",
            "100/100 [==============================] - 19s 187ms/step - loss: 1.0865e-07 - acc: 1.0000 - val_loss: 7.3225 - val_acc: 0.4697\n",
            "Epoch 94/100\n",
            "100/100 [==============================] - 19s 185ms/step - loss: 1.1454e-07 - acc: 1.0000 - val_loss: 7.4197 - val_acc: 0.4794\n",
            "Epoch 95/100\n",
            "100/100 [==============================] - 19s 186ms/step - loss: 4.1924e-07 - acc: 1.0000 - val_loss: 7.5571 - val_acc: 0.4606\n",
            "Epoch 96/100\n",
            "100/100 [==============================] - 19s 187ms/step - loss: 2.8744e-07 - acc: 1.0000 - val_loss: 7.8794 - val_acc: 0.4576\n",
            "Epoch 97/100\n",
            "100/100 [==============================] - 18s 185ms/step - loss: 1.0865e-07 - acc: 1.0000 - val_loss: 7.7647 - val_acc: 0.4618\n",
            "Epoch 98/100\n",
            "100/100 [==============================] - 18s 184ms/step - loss: 1.0846e-07 - acc: 1.0000 - val_loss: 7.9466 - val_acc: 0.4515\n",
            "Epoch 99/100\n",
            "100/100 [==============================] - 19s 188ms/step - loss: 1.0870e-07 - acc: 1.0000 - val_loss: 7.7015 - val_acc: 0.4667\n",
            "Epoch 100/100\n",
            "100/100 [==============================] - 19s 185ms/step - loss: 1.0997e-07 - acc: 1.0000 - val_loss: 7.7258 - val_acc: 0.4588\n"
          ],
          "name": "stdout"
        }
      ]
    },
    {
      "cell_type": "code",
      "metadata": {
        "id": "wA7GpfhVO41F",
        "colab_type": "code",
        "outputId": "4251d611-b068-4a2e-a91a-33e499c0b07b",
        "colab": {
          "base_uri": "https://localhost:8080/",
          "height": 545
        }
      },
      "source": [
        "def smooth_curve(points, factor=0.1):\n",
        "  smoothed_points = []\n",
        "  for point in points:\n",
        "    if smoothed_points:\n",
        "      previous = smoothed_points[-1]\n",
        "      smoothed_points.append(previous * factor + point * (1 - factor))\n",
        "    else:\n",
        "        smoothed_points.append(point)\n",
        "  return smoothed_points\n",
        "plt.plot(epochs,\n",
        "  smooth_curve(acc), 'bo', label='Smoothed training acc')\n",
        "plt.plot(epochs,\n",
        "  smooth_curve(val_acc), 'b', label='Smoothed validation acc')\n",
        "plt.title('Training and validation accuracy')\n",
        "plt.legend()\n",
        "plt.figure()\n",
        "plt.plot(epochs,\n",
        "  smooth_curve(loss), 'bo', label='Smoothed training loss')\n",
        "plt.plot(epochs,\n",
        "  smooth_curve(val_loss), 'b', label='Smoothed validation loss')\n",
        "plt.title('Training and validation loss')\n",
        "plt.legend()\n",
        "plt.show()"
      ],
      "execution_count": 0,
      "outputs": [
        {
          "output_type": "display_data",
          "data": {
            "image/png": "[encoded data removed]",
            "text/plain": [
              "<Figure size 432x288 with 1 Axes>"
            ]
          },
          "metadata": {
            "tags": []
          }
        },
        {
          "output_type": "display_data",
          "data": {
            "image/png": "[encoded data removed]",
            "text/plain": [
              "<Figure size 432x288 with 1 Axes>"
            ]
          },
          "metadata": {
            "tags": []
          }
        }
      ]
    },
    {
      "cell_type": "code",
      "metadata": {
        "id": "Eardsd0WpHzA",
        "colab_type": "code",
        "outputId": "8f07f811-d062-4df9-a656-7e6775d5d6a9",
        "colab": {
          "base_uri": "https://localhost:8080/",
          "height": 54
        }
      },
      "source": [
        "test_generator = test_datagen.flow_from_directory(\n",
        "    test_dir,\n",
        "    target_size=(150, 150),\n",
        "    batch_size=1,\n",
        "    class_mode='binary')\n",
        "test_loss, test_acc = model.evaluate_generator(test_generator, steps=20)\n",
        "print('test acc:', test_acc)"
      ],
      "execution_count": 0,
      "outputs": [
        {
          "output_type": "stream",
          "text": [
            "Found 16 images belonging to 2 classes.\n",
            "test acc: 0.6\n"
          ],
          "name": "stdout"
        }
      ]
    },
    {
      "cell_type": "code",
      "metadata": {
        "id": "D_N-zam0pmDm",
        "colab_type": "code",
        "colab": {}
      },
      "source": [
        ""
      ],
      "execution_count": 0,
      "outputs": []
    }
  ]
}